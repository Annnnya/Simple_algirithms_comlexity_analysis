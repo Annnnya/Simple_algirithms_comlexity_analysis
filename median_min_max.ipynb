{
 "cells": [
  {
   "cell_type": "code",
   "execution_count": 1,
   "metadata": {},
   "outputs": [],
   "source": [
    "from random import randrange, randint\n",
    "from matplotlib import pyplot as plt\n",
    "import numpy as np\n",
    "from timeit import default_timer\n",
    "import timeit"
   ]
  },
  {
   "cell_type": "code",
   "execution_count": 2,
   "metadata": {},
   "outputs": [],
   "source": [
    "def max_func(arr):\n",
    "    max_value=arr[0]\n",
    "    for el in arr:\n",
    "        if el>max_value:\n",
    "            max_value=el\n",
    "    return max_value"
   ]
  },
  {
   "cell_type": "code",
   "execution_count": 3,
   "metadata": {},
   "outputs": [],
   "source": [
    "def min_func(arr):\n",
    "    min_value=arr[0]\n",
    "    for el in arr:\n",
    "        if el>min_value:\n",
    "            min_value=el\n",
    "    return min_value"
   ]
  },
  {
   "cell_type": "code",
   "execution_count": 4,
   "metadata": {},
   "outputs": [],
   "source": [
    "def partition(arr, pivot, pind):\n",
    "    left=[]\n",
    "    right=[]\n",
    "    for i, item in enumerate(arr):\n",
    "        if item>pivot:\n",
    "            right += [item]\n",
    "        elif i!=pind:\n",
    "            left += [item]\n",
    "    return left, [pivot], right"
   ]
  },
  {
   "cell_type": "code",
   "execution_count": 5,
   "metadata": {},
   "outputs": [],
   "source": [
    "\n",
    "def midpoint(arr, mid):\n",
    "    int(mid)\n",
    "    if len(arr) != 0:\n",
    "        index_val = len(arr) - 1\n",
    "        pivot = arr[index_val]\n",
    "        (left_part, middle_part, right_part) = partition(arr, pivot, index_val)\n",
    "        if len(left_part) == mid:\n",
    "            return left_part\n",
    "        if len(left_part) + 1 == mid:\n",
    "            return left_part + middle_part\n",
    "        if len(left_part) > mid:\n",
    "            return midpoint(left_part, mid)\n",
    "        return left_part + middle_part + midpoint(right_part, int(mid - len(left_part) - len(middle_part)))\n",
    "    return None\n"
   ]
  },
  {
   "cell_type": "code",
   "execution_count": 6,
   "metadata": {},
   "outputs": [],
   "source": [
    "def random_midpoint(arr, middle_point):\n",
    "    int(middle_point)\n",
    "    if len(arr) != 0:\n",
    "        index_val = randrange(0, len(arr), 1)\n",
    "        pivot = arr[index_val]\n",
    "        (left_part, middle_part, right_part) = partition(arr, pivot, index_val)\n",
    "        if len(left_part) == middle_point:\n",
    "            return left_part\n",
    "        if len(left_part)+1 == middle_point:\n",
    "            return left_part + middle_part\n",
    "        if len(left_part) > middle_point:\n",
    "            return midpoint(left_part, middle_point)\n",
    "        return left_part+middle_part+midpoint(right_part, int(middle_point-len(left_part)-1))\n",
    "    return None"
   ]
  },
  {
   "cell_type": "code",
   "execution_count": 7,
   "metadata": {},
   "outputs": [],
   "source": [
    "def median(arr):\n",
    "    arr_length = len(arr)\n",
    "    left = midpoint(arr, int(arr_length / 2 + 1))\n",
    "    if len(arr) % 2 == 0:\n",
    "        first_max = max(left)\n",
    "        el = left.index(max(left))\n",
    "        left.pop(el)\n",
    "        second_max = max(left)\n",
    "        return (first_max + second_max) / 2\n",
    "    return max(left)"
   ]
  },
  {
   "cell_type": "code",
   "execution_count": 8,
   "metadata": {},
   "outputs": [],
   "source": [
    "def random_median(arr):\n",
    "    arr_length = len(arr)\n",
    "    left = random_midpoint(arr, int(arr_length / 2 + 1))\n",
    "    if len(arr) % 2 == 0:\n",
    "        first_max = max(left)\n",
    "        el = left.index(max(left))\n",
    "        left.pop(el)\n",
    "        second_max = max(left)\n",
    "        return (first_max + second_max) / 2\n",
    "    return max(left)"
   ]
  },
  {
   "cell_type": "code",
   "execution_count": 9,
   "metadata": {},
   "outputs": [],
   "source": [
    "def k_el_find_deafult(arr, k):\n",
    "    start_point=0\n",
    "    end_point=len(arr)-1\n",
    "    while True:\n",
    "        item=end_point\n",
    "        stored_val=arr[item]\n",
    "        arr[item]=arr[end_point]\n",
    "        arr[end_point]=stored_val\n",
    "        pivot=arr[end_point]\n",
    "        ind=start_point\n",
    "        for i in range(start_point, end_point):\n",
    "            if arr[i]<pivot:\n",
    "                stored_val=arr[ind]\n",
    "                arr[ind]=arr[i]\n",
    "                arr[i]=stored_val\n",
    "                ind += 1\n",
    "        arr[end_point]=arr[ind]\n",
    "        arr[ind]=pivot\n",
    "        if ind==k-1:\n",
    "            return pivot\n",
    "        if ind>k-1:\n",
    "            end_point=ind-1\n",
    "        else:\n",
    "            start_point=ind"
   ]
  },
  {
   "cell_type": "code",
   "execution_count": 10,
   "metadata": {},
   "outputs": [],
   "source": [
    "def k_el_find_rand(arr, k):\n",
    "    start_point=0\n",
    "    end_point=len(arr)-1\n",
    "    while True:\n",
    "        item=randrange(0, end_point-1-start_point, 1)-start_point\n",
    "        stored_val=arr[item]\n",
    "        arr[item]=arr[end_point]\n",
    "        arr[end_point]=stored_val\n",
    "        pivot=arr[end_point]\n",
    "        ind=start_point\n",
    "        for i in range(start_point, end_point):\n",
    "            if arr[i]<pivot:\n",
    "                stored_val=arr[ind]\n",
    "                arr[ind]=arr[i]\n",
    "                arr[i]=stored_val\n",
    "                ind += 1\n",
    "        arr[end_point]=arr[ind]\n",
    "        arr[ind]=pivot\n",
    "        if ind==k-1:\n",
    "            return pivot\n",
    "        elif ind>k-1:\n",
    "            end_point=ind-1\n",
    "        else:\n",
    "            start_point=ind"
   ]
  },
  {
   "cell_type": "code",
   "execution_count": 11,
   "metadata": {},
   "outputs": [
    {
     "name": "stdout",
     "output_type": "stream",
     "text": [
      "[829, 47, 195, 203, 597, 721, 109, 605, 413, 662]\n",
      "[47, 109, 195, 203, 413, 597, 605, 662, 721, 829]\n",
      "[829, 721, 662, 605, 597, 413, 203, 195, 109, 47]\n"
     ]
    }
   ],
   "source": [
    "list_lenghts=[10,500,1000,2000,3000, 4000]\n",
    "not_sorted_lists=[]\n",
    "inverse_sorted_lists=[]\n",
    "sorted_lists=[]\n",
    "for i in range(6):\n",
    "    not_sorted_lists.append([randint(0, 1000) for _ in range(list_lenghts[i])])\n",
    "    inverse_sorted_lists.append(sorted(not_sorted_lists[i], reverse=True))\n",
    "    sorted_lists.append(sorted(not_sorted_lists[i]))\n",
    "print(not_sorted_lists[0])\n",
    "print(sorted_lists[0])\n",
    "print(inverse_sorted_lists[0])\n"
   ]
  },
  {
   "cell_type": "code",
   "execution_count": 12,
   "metadata": {},
   "outputs": [
    {
     "data": {
      "image/png": "[encoded data removed]",
      "text/plain": [
       "<Figure size 432x288 with 1 Axes>"
      ]
     },
     "metadata": {
      "needs_background": "light"
     },
     "output_type": "display_data"
    }
   ],
   "source": [
    "plt.xlabel('length (n)')\n",
    "plt.ylabel('min search execution times, s')\n",
    "min_times_r = []\n",
    "min_times_inv = []\n",
    "min_times_sort = []\n",
    "for el in not_sorted_lists:\n",
    "    time_all = timeit.timeit(lambda: min_func(el), number=10, timer=default_timer)\n",
    "    min_times_r.append(time_all/10)\n",
    "for el in sorted_lists:\n",
    "    time_all = timeit.timeit(lambda: min_func(el), number=10, timer=default_timer)\n",
    "    min_times_sort.append(time_all/10)\n",
    "for el in inverse_sorted_lists:\n",
    "    time_all = timeit.timeit(lambda: min_func(el), number=10, timer=default_timer)\n",
    "    min_times_inv.append(time_all/10)\n",
    "    \n",
    "plt.scatter(list_lenghts, min_times_r, color = \"blue\", label = \"for random\")\n",
    "plt.scatter(list_lenghts, min_times_inv, color = \"red\", label = \"for inverse\")\n",
    "plt.scatter(list_lenghts, min_times_sort, color = \"green\", label = \"for sorted\")\n",
    "\n",
    "leg=plt.legend()\n"
   ]
  },
  {
   "cell_type": "code",
   "execution_count": 13,
   "metadata": {},
   "outputs": [
    {
     "data": {
      "image/png": "[encoded data removed]",
      "text/plain": [
       "<Figure size 432x288 with 1 Axes>"
      ]
     },
     "metadata": {
      "needs_background": "light"
     },
     "output_type": "display_data"
    }
   ],
   "source": [
    "plt.xlabel('length (n)')\n",
    "plt.ylabel('max search execution times, s')\n",
    "max_times_r = []\n",
    "max_times_inv = []\n",
    "max_times_sort = []\n",
    "for el in not_sorted_lists:\n",
    "    time_all = timeit.timeit(lambda: max_func(el), number=10, timer=default_timer)\n",
    "    max_times_r.append(time_all/10)\n",
    "for el in sorted_lists:\n",
    "    time_all = timeit.timeit(lambda: max_func(el), number=10, timer=default_timer)\n",
    "    max_times_sort.append(time_all/10)\n",
    "for el in inverse_sorted_lists:\n",
    "    time_all = timeit.timeit(lambda: max_func(el), number=10, timer=default_timer)\n",
    "    max_times_inv.append(time_all/10)\n",
    "    \n",
    "plt.scatter(list_lenghts, max_times_r, color = \"blue\", label = \"for random\")\n",
    "plt.scatter(list_lenghts, max_times_inv, color = \"red\", label = \"for inverse\")\n",
    "plt.scatter(list_lenghts, max_times_sort, color = \"green\", label = \"for sorted\")\n",
    "\n",
    "leg=plt.legend()\n"
   ]
  },
  {
   "cell_type": "code",
   "execution_count": 14,
   "metadata": {},
   "outputs": [
    {
     "data": {
      "image/png": "[encoded data removed]",
      "text/plain": [
       "<Figure size 432x288 with 1 Axes>"
      ]
     },
     "metadata": {
      "needs_background": "light"
     },
     "output_type": "display_data"
    }
   ],
   "source": [
    "plt.xlabel('length (n)')\n",
    "plt.ylabel('deafult midpoint search execution times, s')\n",
    "m_times_r = []\n",
    "m_times_inv = []\n",
    "m_times_sort = []\n",
    "for el in not_sorted_lists:\n",
    "    time_all = timeit.timeit(lambda: median(el), number=10, timer=default_timer)\n",
    "    m_times_r.append(time_all/10)\n",
    "for el in sorted_lists:\n",
    "    time_all = timeit.timeit(lambda: median(el), number=10, timer=default_timer)\n",
    "    m_times_sort.append(time_all/10)\n",
    "for el in inverse_sorted_lists:\n",
    "    time_all = timeit.timeit(lambda: median(el), number=10, timer=default_timer)\n",
    "    m_times_inv.append(time_all/10)\n",
    "    \n",
    "plt.scatter(list_lenghts, m_times_r, color = \"blue\", label = \"for random\")\n",
    "plt.scatter(list_lenghts, m_times_inv, color = \"red\", label = \"for inverse\")\n",
    "plt.scatter(list_lenghts, m_times_sort, color = \"green\", label = \"for sorted\")\n",
    "\n",
    "leg=plt.legend()\n"
   ]
  },
  {
   "cell_type": "code",
   "execution_count": 15,
   "metadata": {},
   "outputs": [
    {
     "data": {
      "image/png": "[encoded data removed]",
      "text/plain": [
       "<Figure size 432x288 with 1 Axes>"
      ]
     },
     "metadata": {
      "needs_background": "light"
     },
     "output_type": "display_data"
    }
   ],
   "source": [
    "plt.xlabel('length (n)')\n",
    "plt.ylabel('random midpoint search execution times, s')\n",
    "m_times_r = []\n",
    "m_times_inv = []\n",
    "m_times_sort = []\n",
    "for el in not_sorted_lists:\n",
    "    time_all = timeit.timeit(lambda: random_median(el), number=10, timer=default_timer)\n",
    "    m_times_r.append(time_all/10)\n",
    "for el in sorted_lists:\n",
    "    time_all = timeit.timeit(lambda: random_median(el), number=10, timer=default_timer)\n",
    "    m_times_sort.append(time_all/10)\n",
    "for el in inverse_sorted_lists:\n",
    "    time_all = timeit.timeit(lambda: random_median(el), number=10, timer=default_timer)\n",
    "    m_times_inv.append(time_all/10)\n",
    "    \n",
    "plt.scatter(list_lenghts, m_times_r, color = \"blue\", label = \"for random\")\n",
    "plt.scatter(list_lenghts, m_times_inv, color = \"red\", label = \"for inverse\")\n",
    "plt.scatter(list_lenghts, m_times_sort, color = \"green\", label = \"for sorted\")\n",
    "\n",
    "leg=plt.legend()\n"
   ]
  },
  {
   "cell_type": "code",
   "execution_count": 16,
   "metadata": {},
   "outputs": [],
   "source": [
    "plt.xlabel('length (n)')\n",
    "plt.ylabel('deafult kth search execution times, s')\n",
    "m_times_r = []\n",
    "m_times_inv = []\n",
    "m_times_sort = []\n",
    "for el in not_sorted_lists:\n",
    "    time_all = timeit.timeit(lambda: k_el_find_deafult(el, randint(1, len(el)-1)), number=5, timer=default_timer)\n",
    "    m_times_r.append(time_all/5)\n",
    "for el in sorted_lists:\n",
    "    time_all = timeit.timeit(lambda: k_el_find_deafult(el, randint(1, len(el)-1)), number=5, timer=default_timer)\n",
    "    m_times_sort.append(time_all/5)\n",
    "for el in inverse_sorted_lists:\n",
    "    time_all = timeit.timeit(lambda: k_el_find_deafult(el, randint(1, len(el)-1)), number=5, timer=default_timer)\n",
    "    m_times_inv.append(time_all/5)\n",
    "    \n",
    "plt.scatter(list_lenghts, m_times_r, color = \"blue\", label = \"for random\")\n",
    "plt.scatter(list_lenghts, m_times_inv, color = \"red\", label = \"for inverse\")\n",
    "plt.scatter(list_lenghts, m_times_sort, color = \"green\", label = \"for sorted\")\n",
    "\n",
    "leg=plt.legend()"
   ]
  },
  {
   "cell_type": "code",
   "execution_count": null,
   "metadata": {},
   "outputs": [],
   "source": [
    "plt.xlabel('length (n)')\n",
    "plt.ylabel('randomized kth search execution times, s')\n",
    "m_times_r = []\n",
    "m_times_inv = []\n",
    "m_times_sort = []\n",
    "for el in not_sorted_lists:\n",
    "    time_all = timeit.timeit(lambda: k_el_find_rand(el, randint(1, len(el)-1)), number=10, timer=default_timer)\n",
    "    m_times_r.append(time_all/5)\n",
    "for el in sorted_lists:\n",
    "    time_all = timeit.timeit(lambda: k_el_find_rand(el, randint(1, len(el)-1)), number=10, timer=default_timer)\n",
    "    m_times_sort.append(time_all/5)\n",
    "for el in inverse_sorted_lists:\n",
    "    time_all = timeit.timeit(lambda: k_el_find_rand(el, randint(1, len(el)-1)), number=10, timer=default_timer)\n",
    "    m_times_inv.append(time_all/5)\n",
    "    \n",
    "plt.scatter(list_lenghts, m_times_r, color = \"blue\", label = \"for random\")\n",
    "plt.scatter(list_lenghts, m_times_inv, color = \"red\", label = \"for inverse\")\n",
    "plt.scatter(list_lenghts, m_times_sort, color = \"green\", label = \"for sorted\")\n",
    "\n",
    "leg=plt.legend()"
   ]
  }
 ],
 "metadata": {
  "kernelspec": {
   "display_name": "Python 3.8.0 32-bit",
   "language": "python",
   "name": "python3"
  },
  "language_info": {
   "codemirror_mode": {
    "name": "ipython",
    "version": 3
   },
   "file_extension": ".py",
   "mimetype": "text/x-python",
   "name": "python",
   "nbconvert_exporter": "python",
   "pygments_lexer": "ipython3",
   "version": "3.8.0"
  },
  "orig_nbformat": 4,
  "vscode": {
   "interpreter": {
    "hash": "00353a74eb640e76c3ea96069a586a96e04a8f85b363aa6df5eeebeb90fb1f4e"
   }
  }
 },
 "nbformat": 4,
 "nbformat_minor": 2
}
