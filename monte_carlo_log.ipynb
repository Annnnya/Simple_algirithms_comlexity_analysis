{
 "cells": [
  {
   "cell_type": "markdown",
   "metadata": {},
   "source": [
    "This module is dedicated to estimation of number of unique elements is a very big data"
   ]
  },
  {
   "cell_type": "code",
   "execution_count": 1,
   "metadata": {},
   "outputs": [],
   "source": [
    "import math\n",
    "from statistics import harmonic_mean\n",
    "from numpy import random as nprandom\n",
    "import numpy as np\n",
    "import hashlib\n",
    "import timeit"
   ]
  },
  {
   "cell_type": "code",
   "execution_count": 2,
   "metadata": {},
   "outputs": [],
   "source": [
    "class HashTable:\n",
    "    def __init__(self):\n",
    "        self.size = 1000\n",
    "        self.hash_table = [[] for _ in range(1000)]\n",
    "        self.cardinality = 0\n",
    "    def set_val(self, val):\n",
    "        hashed_key = hash(val) % self.size\n",
    "        bucket = self.hash_table[hashed_key]\n",
    "        found_key = False\n",
    "        for index, record in enumerate(bucket):\n",
    "            if record == val:\n",
    "                found_key=True\n",
    "        if not found_key:\n",
    "            self.hash_table[hashed_key].append(val)\n",
    "            self.cardinality+=1"
   ]
  },
  {
   "cell_type": "code",
   "execution_count": 3,
   "metadata": {},
   "outputs": [],
   "source": [
    "def trivial_counting(nums: list):\n",
    "    hashmap=HashTable()\n",
    "    for el in nums:\n",
    "        hashmap.set_val(el)\n",
    "    return hashmap.cardinality"
   ]
  },
  {
   "cell_type": "code",
   "execution_count": 4,
   "metadata": {},
   "outputs": [],
   "source": [
    "def flaj_mart_algo(nums: list):\n",
    "    max_num=0\n",
    "    for el in nums:\n",
    "        binary_form = int(hashlib.sha256(str(el).encode('ASCII')).hexdigest(), 16)\n",
    "        i=0\n",
    "        while True:\n",
    "            if binary_form>>i & 1:\n",
    "                break\n",
    "            else:\n",
    "                i+=1\n",
    "        if i>max_num:\n",
    "            max_num=i\n",
    "    return int(pow(2, max_num)/0.77351)"
   ]
  },
  {
   "cell_type": "code",
   "execution_count": 5,
   "metadata": {},
   "outputs": [],
   "source": [
    "def loglog(nums:list, m):\n",
    "    longest_in_bikets = [0]*m\n",
    "    for el in nums:\n",
    "        binary_form = int(hashlib.sha256(str(el).encode('ASCII')).hexdigest(), 16)\n",
    "        num_of_buck = int(bin(binary_form)[3:int(math.log(m, 2))+3], 2)\n",
    "        trailing_zeros=0\n",
    "        i=0\n",
    "        while True:\n",
    "            if binary_form>>i & 1:\n",
    "                break\n",
    "            else:\n",
    "                i+=1\n",
    "        if i>longest_in_bikets[num_of_buck]:\n",
    "            longest_in_bikets[num_of_buck]=i\n",
    "    return int(m*pow(2, sum(longest_in_bikets)/m)/0.77351)"
   ]
  },
  {
   "cell_type": "code",
   "execution_count": 6,
   "metadata": {},
   "outputs": [],
   "source": [
    "def super_loglog(nums: list, m):\n",
    "    longest_in_bikets = [0]*m\n",
    "    for el in nums:\n",
    "        binary_form = int(hashlib.sha256(str(el).encode('ASCII')).hexdigest(), 16)\n",
    "        num_of_buck = int(bin(binary_form)[3:int(math.log(m, 2))+3], 2)\n",
    "        trailing_zeros=0\n",
    "        i=0\n",
    "        while True:\n",
    "            if binary_form>>i & 1:\n",
    "                break\n",
    "            else:\n",
    "                i+=1\n",
    "        if i>longest_in_bikets[num_of_buck]:\n",
    "            longest_in_bikets[num_of_buck]=i\n",
    "    first_70_perc = sorted(longest_in_bikets)[:int(m*0.7)]\n",
    "    return int(0.7*m*pow(2, (sum(first_70_perc)/len(first_70_perc)))/0.5)"
   ]
  },
  {
   "cell_type": "code",
   "execution_count": 7,
   "metadata": {},
   "outputs": [],
   "source": [
    "def hyper_loglog(nums: list, m):\n",
    "    longest_in_bikets = [0]*m\n",
    "    for el in nums:\n",
    "        binary_form = int(hashlib.sha256(str(el).encode('ASCII')).hexdigest(), 16)\n",
    "        num_of_buck = int(bin(binary_form)[3:int(math.log(m, 2))+3], 2)\n",
    "        trailing_zeros=0\n",
    "        i=0\n",
    "        while True:\n",
    "            if binary_form>>i & 1:\n",
    "                break\n",
    "            else:\n",
    "                i+=1\n",
    "        if i>longest_in_bikets[num_of_buck]:\n",
    "            longest_in_bikets[num_of_buck]=i\n",
    "    return int(m*harmonic_mean([pow(2, el) for el in longest_in_bikets])/0.77351)"
   ]
  },
  {
   "cell_type": "code",
   "execution_count": 8,
   "metadata": {},
   "outputs": [],
   "source": [
    "def sample_poisson(n:int):\n",
    "    return nprandom.poisson(1000, n)\n",
    "\n",
    "sample_1k = sample_poisson(1000)\n",
    "sample_10k = sample_poisson(10000)\n",
    "sample_100k = sample_poisson(100000)\n",
    "sample_1m = sample_poisson(1000000)\n",
    "sample_10m = sample_poisson(10000000)\n",
    "samples=[sample_1k, sample_10k, sample_100k, sample_1m, sample_10m]"
   ]
  },
  {
   "cell_type": "markdown",
   "metadata": {},
   "source": [
    "In hashmap counting we get precise result, so the error is 0"
   ]
  },
  {
   "cell_type": "code",
   "execution_count": 9,
   "metadata": {},
   "outputs": [],
   "source": [
    "#test trivial\n",
    "from timeit import default_timer\n",
    "\n",
    "real_values=[]\n",
    "real_times = []\n",
    "for i, samp in enumerate(samples):\n",
    "    t1 = default_timer()\n",
    "    real_values.append(trivial_counting(samp))\n",
    "    real_times.append(default_timer()-t1)"
   ]
  },
  {
   "cell_type": "markdown",
   "metadata": {},
   "source": [
    "FM algorithm has very low precision estimation for small n, but it gets much better for large n, as it is based on probability of random event. The smaller the n, the bigger is the chance that a big outlier in data will lead to recieving a result that is much bigger then actual cardinality."
   ]
  },
  {
   "cell_type": "code",
   "execution_count": 10,
   "metadata": {},
   "outputs": [
    {
     "name": "stdout",
     "output_type": "stream",
     "text": [
      "For 1000 real is 151 fm is 330, relative error is 1.185430463576159\n",
      "For 10000 real is 210 fm is 330, relative error is 0.5714285714285714\n",
      "For 100000 real is 253 fm is 330, relative error is 0.30434782608695654\n",
      "For 1000000 real is 287 fm is 330, relative error is 0.14982578397212554\n",
      "For 10000000 real is 315 fm is 330, relative error is 0.04761904761904767\n"
     ]
    }
   ],
   "source": [
    "#test fm\n",
    "\n",
    "fm_values = []\n",
    "fm_times = []\n",
    "for i, samp in enumerate(samples):\n",
    "    t1 = default_timer()\n",
    "    fm = flaj_mart_algo(samp)\n",
    "    fm_times.append(default_timer()-t1)\n",
    "    fm_values.append(fm)\n",
    "    print(f\"For {1000*10**(i)} real is {real_values[i]} fm is {fm}, relative error is {abs(1-fm/real_values[i])}\")\n",
    "# print(fm_times)\n",
    "    "
   ]
  },
  {
   "cell_type": "markdown",
   "metadata": {},
   "source": [
    "FM is good for large n, but we still need to lessen the impact of outliers on our result to make it more precise. For this we separete elements into more or less equal groups and then fing average of the longest sequence from all groups. Thus if we have only a few outliers which mess up the result, their impact will be lessend by adequate results from other groups."
   ]
  },
  {
   "cell_type": "code",
   "execution_count": 11,
   "metadata": {},
   "outputs": [
    {
     "name": "stdout",
     "output_type": "stream",
     "text": [
      "For 1000 real is 151 fm is 151, relative error is 0.0\n",
      "For 10000 real is 210 fm is 376, relative error is 0.7904761904761906\n",
      "For 100000 real is 253 fm is 458, relative error is 0.8102766798418972\n",
      "For 1000000 real is 287 fm is 478, relative error is 0.6655052264808363\n",
      "For 10000000 real is 315 fm is 521, relative error is 0.6539682539682539\n"
     ]
    }
   ],
   "source": [
    "#test loglog\n",
    "loglog_res =[]\n",
    "ll_times = []\n",
    "for i, samp in enumerate(samples):\n",
    "    opt_m = 2**int(math.log((math.log(1000*10**(i), 2)), 2)+1)\n",
    "    t1 = default_timer()\n",
    "    ll = loglog(samp, opt_m)\n",
    "    ll_times.append(default_timer()-t1)\n",
    "    loglog_res.append(ll)\n",
    "    print(f\"For {1000*10**(i)} real is {real_values[i]} fm is {ll}, relative error is {abs(1-ll/real_values[i])}\")"
   ]
  },
  {
   "cell_type": "markdown",
   "metadata": {},
   "source": [
    "Super loglog improves loglog by mechanically discarding 30% values of longest sequences from buckets, therefore it further lessens the impact of possible big outliers. However, we don't know how many outliers there actually is, so this is only a half-measure."
   ]
  },
  {
   "cell_type": "markdown",
   "metadata": {},
   "source": [
    "HyperLogLog deals with otliers by finding harmonic mean. This method is the best because if the outlier is too big, it almost does m=not contribute to the mean."
   ]
  },
  {
   "cell_type": "code",
   "execution_count": 12,
   "metadata": {},
   "outputs": [
    {
     "name": "stdout",
     "output_type": "stream",
     "text": [
      "For 1000 real is 151 fm is 84, relative error is 0.4437086092715232\n",
      "For 10000 real is 210 fm is 190, relative error is 0.09523809523809523\n",
      "For 100000 real is 253 fm is 245, relative error is 0.031620553359683834\n",
      "For 1000000 real is 287 fm is 253, relative error is 0.11846689895470386\n",
      "For 10000000 real is 315 fm is 287, relative error is 0.0888888888888889\n"
     ]
    }
   ],
   "source": [
    "#test superloglog\n",
    "superll_res = []\n",
    "sll_times = []\n",
    "for i, samp in enumerate(samples):\n",
    "        opt_m = 2**int(math.log((math.log(1000*10**(i), 2)), 2)+1)\n",
    "        t1 = default_timer()\n",
    "        sll = super_loglog(samp, opt_m)\n",
    "        sll_times.append(default_timer()-t1)\n",
    "        superll_res.append(sll)\n",
    "        print(f\"For {1000*10**(i)} real is {real_values[i]} fm is {sll}, relative error is {abs(1-sll/real_values[i])}\")\n",
    "# print(sll_times)"
   ]
  },
  {
   "cell_type": "code",
   "execution_count": 13,
   "metadata": {},
   "outputs": [
    {
     "name": "stdout",
     "output_type": "stream",
     "text": [
      "For 1000 real is 151 fm is 88, relative error is 0.41721854304635764\n",
      "For 10000 real is 210 fm is 176, relative error is 0.16190476190476188\n",
      "For 100000 real is 253 fm is 258, relative error is 0.01976284584980248\n",
      "For 1000000 real is 287 fm is 262, relative error is 0.08710801393728218\n",
      "For 10000000 real is 315 fm is 278, relative error is 0.11746031746031749\n"
     ]
    }
   ],
   "source": [
    "#test hyperloglog\n",
    "hyperll_res = []\n",
    "hll_times =[]\n",
    "for i, samp in enumerate(samples):\n",
    "    opt_m = 2**int(math.log((math.log(1000*10**(i), 2)), 2)+1)\n",
    "    t1 = default_timer()\n",
    "    hll = hyper_loglog(samp, opt_m)\n",
    "    hll_times.append(default_timer()-t1)\n",
    "    hyperll_res.append(hll)\n",
    "    print(f\"For {1000*10**(i)} real is {real_values[i]} fm is {hll}, relative error is {abs(1-hll/real_values[i])}\")"
   ]
  },
  {
   "cell_type": "code",
   "execution_count": 17,
   "metadata": {},
   "outputs": [
    {
     "data": {
      "image/png": "[encoded data removed]",
      "text/plain": [
       "<Figure size 432x288 with 1 Axes>"
      ]
     },
     "metadata": {
      "needs_background": "light"
     },
     "output_type": "display_data"
    }
   ],
   "source": [
    "from matplotlib import pyplot as plt\n",
    "\n",
    "plt.plot([1000, 10000, 100000, 1000000, 10000000], real_values, label = \"real value\")\n",
    "plt.plot([1000, 10000, 100000, 1000000, 10000000], fm_values, color=\"orange\", label = \"fm values\")\n",
    "plt.plot([1000, 10000, 100000, 1000000, 10000000], loglog_res, color=\"red\", label = \"loglog values\")\n",
    "plt.plot([1000, 10000, 100000, 1000000, 10000000], superll_res, color=\"pink\", label = \"superloglog values\")\n",
    "plt.plot([1000, 10000, 100000, 1000000, 10000000], hyperll_res, color=\"black\", label = \"hyperloglog values\")\n",
    "plt.xlabel(\"sample length (n)\")\n",
    "plt.ylabel(\"obtained cardinality\")\n",
    "leg=plt.legend()"
   ]
  },
  {
   "cell_type": "markdown",
   "metadata": {},
   "source": [
    "Time complexity analisys\n",
    "\n",
    "For a usual hashmap tme complexity is n*O(n/m) ~ O(n^2/m), where n is number of elements in array and m is a size of the hash table. (We need to insert n elements to hash table of length m therefore time complexity is time complexity of one insertion multiplied by n)\n",
    "\n",
    "For Flajolet-Martin algorithm  we need to find the maximum number of trailing zeros for every n and then find power of 2. As we need to find power only once, in general time complexity should be O(nq), where q is length of binary hash reprezentation of number\n",
    "\n",
    "For LogLog algorithm  we need to find the maximum number of trailing zeros for every n, divide numbers to buckets (which depend on first bits of hash representation), and then find power of 2. As we need to find power only once and bits of buckets don`t cross with bits of trailing zeros, in general time complexity should also be O(nq), where q is length of binary hash reprezentation of number\n",
    "\n",
    "\n",
    "For SuperLogLog and HyperLogLog the logic is the same as for LogLog, as they differ only in the way we find power of 2. Therefore, their time complexities are also O(nq)\n",
    "\n",
    "In real life, howewer, if hash table is large enough (m is bigger or a couple times smaller then n) it is faster then other methods, because counting powers and finding hash add quite big coefficient to nq time, while n*n/m becomes nc, where c is a small constant."
   ]
  },
  {
   "cell_type": "code",
   "execution_count": 15,
   "metadata": {},
   "outputs": [
    {
     "data": {
      "image/png": "[encoded data removed]",
      "text/plain": [
       "<Figure size 432x288 with 1 Axes>"
      ]
     },
     "metadata": {
      "needs_background": "light"
     },
     "output_type": "display_data"
    }
   ],
   "source": [
    "from matplotlib import pyplot as plt\n",
    "\n",
    "plt.scatter([1000, 10000, 100000, 1000000, 10000000], real_times, label = \"hashmap times\")\n",
    "plt.scatter([1000, 10000, 100000, 1000000, 10000000], fm_times, color=\"orange\", label = \"fm times\")\n",
    "plt.scatter([1000, 10000, 100000, 1000000, 10000000], ll_times, color=\"red\", label = \"loglog times\")\n",
    "plt.scatter([1000, 10000, 100000, 1000000, 10000000], sll_times, color=\"pink\", label = \"superloglog times\")\n",
    "plt.scatter([1000, 10000, 100000, 1000000, 10000000], hll_times, color=\"black\", label = \"hyperloglog times\")\n",
    "plt.xlabel(\"sample length (n)\")\n",
    "plt.ylabel(\"execution times, seconds\")\n",
    "leg=plt.legend()\n"
   ]
  },
  {
   "cell_type": "markdown",
   "metadata": {},
   "source": [
    "Space conplexity of hashtable is O(m*(n/m)), where m is length of hash table and m is number of elements. As is trivial counting of unique elements we have to store at least all unique elements first, it can take a lot of space for large ns with little unique elements.\n",
    "\n",
    "Space complexity of FM algorithm is O(1), as we only need to store the length of the longest sequence of traling zeroes between algorithm iterations.\n",
    "\n",
    "Space complexity of all LogLog algorithms is O(m), as we only need to store the length of the longest sequence of traling zeroes for every of m buckets."
   ]
  }
 ],
 "metadata": {
  "kernelspec": {
   "display_name": "Python 3.8.0 32-bit",
   "language": "python",
   "name": "python3"
  },
  "language_info": {
   "codemirror_mode": {
    "name": "ipython",
    "version": 3
   },
   "file_extension": ".py",
   "mimetype": "text/x-python",
   "name": "python",
   "nbconvert_exporter": "python",
   "pygments_lexer": "ipython3",
   "version": "3.8.0"
  },
  "orig_nbformat": 4,
  "vscode": {
   "interpreter": {
    "hash": "00353a74eb640e76c3ea96069a586a96e04a8f85b363aa6df5eeebeb90fb1f4e"
   }
  }
 },
 "nbformat": 4,
 "nbformat_minor": 2
}
