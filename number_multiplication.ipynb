{
 "cells": [
  {
   "cell_type": "code",
   "execution_count": 1,
   "metadata": {},
   "outputs": [],
   "source": [
    "import matplotlib.pyplot as plt\n",
    "import numpy as np\n",
    "from random import randint\n",
    "import numpy\n",
    "import timeit\n",
    "import time\n",
    "from math import ceil, floor, sqrt\n",
    "from sklearn.linear_model import LinearRegression\n",
    "from scipy import stats\n",
    "import seaborn as sns"
   ]
  },
  {
   "cell_type": "markdown",
   "metadata": {},
   "source": [
    "Below is implementation of standard multiplication algorithm.\n",
    "\n",
    "Justification of its time complexity:\n",
    "Standart multiplication has two loops, one of which is nested. Other then that all operations are elementary, therefore the time complexity is O(n^2)"
   ]
  },
  {
   "cell_type": "code",
   "execution_count": null,
   "metadata": {},
   "outputs": [],
   "source": [
    "def simple_multipl(num1: int, num2:int) -> 0:\n",
    "    res = 0\n",
    "    n2=num2%10\n",
    "    i=0\n",
    "    while n2 != 0:\n",
    "        sub_res = 0\n",
    "        n1=num1%10\n",
    "        j=0\n",
    "        carry=0\n",
    "\n",
    "        while n1 != 0:\n",
    "            # print(n2, n1)\n",
    "            single_digits_multiply = n1*n2+carry\n",
    "            sub_res += (single_digits_multiply%10)*(10**j)\n",
    "            carry = single_digits_multiply//10\n",
    "            j+=1\n",
    "            n1 = num1//(10**j)%10\n",
    "        \n",
    "        # print(sub_res)\n",
    "        res+=sub_res*(10**i)\n",
    "        i+=1\n",
    "        n2=num2//(10**i)%10\n",
    "    return res\n"
   ]
  },
  {
   "cell_type": "markdown",
   "metadata": {},
   "source": [
    "Below is implementation of standard multiplication algorithm.\n",
    "\n",
    "Justification of its time complexity:\n",
    "The algorithm is recursive, and is described by formula\n",
    "\n",
    "![](https://mathworld.wolfram.com/images/equations/KaratsubaMultiplication/NumberedEquation1.svg)\n",
    "\n",
    "Time complexity of karatsuba multiplication is described by recursive equality T(n) = 3T(2/n)+O(n) - we replace 2 multiplications with only 1. Therefore time complexity is O(n^log3)."
   ]
  },
  {
   "cell_type": "code",
   "execution_count": null,
   "metadata": {},
   "outputs": [],
   "source": [
    "def karatsuba(num1,num2):\n",
    "    if num1 < 10 or num2 < 10:\n",
    "        return num1*num2\n",
    "\n",
    "    n = max(len(str(num1)), len(str(num2)))\n",
    "    m = n//2\n",
    "\n",
    "    n1_left  = num1 // 10**m\n",
    "    n1_right = num1 % (10**m)\n",
    "\n",
    "    n1_left = num2 // 10**m\n",
    "    n1_right = num2 % (10**m)\n",
    "\n",
    "    left_res = karatsuba(n1_left,n1_left)\n",
    "    right_res = karatsuba(n1_right,n1_right)\n",
    "    res = karatsuba(n1_left + n1_right, n1_left + n1_right) - left_res - right_res\n",
    "\n",
    "    return int(left_res*(10**(m*2)) + res*(10**m) + right_res)"
   ]
  },
  {
   "cell_type": "markdown",
   "metadata": {},
   "source": [
    "Test of time complexities of both algorithms"
   ]
  },
  {
   "cell_type": "code",
   "execution_count": null,
   "metadata": {},
   "outputs": [],
   "source": [
    "testing_numbers = []\n",
    "testing_lenghts = [10, 100, 1000, 3000, 6000]\n",
    "for i in testing_lenghts:\n",
    "    testing_numbers.append( (randint(10**(i-1), 10**i-1), randint(10**(i-1), 10**i-1)) )"
   ]
  },
  {
   "cell_type": "code",
   "execution_count": null,
   "metadata": {},
   "outputs": [],
   "source": [
    "from timeit import default_timer\n",
    "\n",
    "standart_times=[]\n",
    "for num1, num2 in testing_numbers:\n",
    "\n",
    "    # one_loop_times_st = []\n",
    "    # for _ in range(500):\n",
    "\n",
    "    #     t1 = time.time()\n",
    "    #     simple_multipl(num1, num2)\n",
    "    #     t2 = time.time()\n",
    "    #     one_loop_times_st.append(t2-t1)\n",
    "    \n",
    "    # standart_times.append(np.quantile (one_loop_times_st, 0.1))\n",
    "    times = []\n",
    "    for _ in range(50):\n",
    "        t1 = default_timer()\n",
    "        simple_multipl(num1, num2)\n",
    "        times.append(default_timer()-t1)\n",
    "\n",
    "    standart_times.append(np.quantile(times, 0.1))"
   ]
  },
  {
   "cell_type": "code",
   "execution_count": null,
   "metadata": {},
   "outputs": [],
   "source": [
    "from timeit import default_timer\n",
    "\n",
    "\n",
    "karatsuba_times=[]\n",
    "\n",
    "for num1, num2 in testing_numbers:\n",
    "\n",
    "    # one_loop_times_kar = []\n",
    "    # for _ in range(500):\n",
    "\n",
    "    #     t1 = time.time()\n",
    "    #     karatsuba(num1, num2)\n",
    "    #     t2 = time.time()\n",
    "    #     one_loop_times_kar.append(t2-t1)\n",
    "\n",
    "    # karatsuba_times.append(np.mean(one_loop_times_kar))\n",
    "\n",
    "    time_all = timeit.timeit(lambda: karatsuba(num1, num2), number=4, timer=default_timer)\n",
    "\n",
    "    karatsuba_times.append(time_all/4)"
   ]
  },
  {
   "cell_type": "markdown",
   "metadata": {},
   "source": [
    "Now let's see times of xecution for differen lenghts of numbers"
   ]
  },
  {
   "cell_type": "code",
   "execution_count": null,
   "metadata": {},
   "outputs": [],
   "source": [
    "# print(standart_times)\n",
    "# print(karatsuba_times)\n",
    "\n",
    "plt.scatter(testing_lenghts, standart_times, color='green', label=\"Standart multiplication times\")\n",
    "plt.scatter(testing_lenghts, karatsuba_times, color='red', label=\"Karatsuba multiplication times\")\n",
    "plt.xlabel(\"number length\")\n",
    "plt.ylabel(\"execution times, seconds\")\n",
    "leg=plt.legend()"
   ]
  },
  {
   "cell_type": "markdown",
   "metadata": {},
   "source": [
    "Here we try to take reverse function from theoretical O(n^2) dependency for standart multiplication and try to see if it fits to linear regression. Ideally values of sqrt(time) should be close to the line"
   ]
  },
  {
   "cell_type": "code",
   "execution_count": null,
   "metadata": {},
   "outputs": [],
   "source": [
    "# model = LinearRegression()\n",
    "# dots = np.array(testing_lenghts, [sqrt(i) for i in standart_times])\n",
    "# model.fit(dots.reshape(-1, 1), zip(testing_lenghts, testing_lenghts))\n",
    "# line = model.predict(dots)\n",
    "# plt.plot(dots, line, color=\"red\")\n",
    "slope, intercept, r, p, std_err = stats.linregress(testing_lenghts, [sqrt(i) for i in standart_times])\n",
    "\n",
    "def myfunc(x):\n",
    "  return slope * x + intercept\n",
    "\n",
    "mymodel = list(map(myfunc, testing_lenghts))\n",
    "\n",
    "plt.scatter(testing_lenghts, [sqrt(i) for i in standart_times])\n",
    "plt.plot(testing_lenghts, mymodel)"
   ]
  },
  {
   "cell_type": "markdown",
   "metadata": {},
   "source": [
    "Here we try to take reverse function from theoretical O(n^(log3, 2)) dependency and try to see if it fits to linear regression. Ideally values of pow(time, 1/1.58) should be close to the line. Then it means that practical time complexity matches teoretical one."
   ]
  },
  {
   "cell_type": "code",
   "execution_count": null,
   "metadata": {},
   "outputs": [],
   "source": [
    "slope, intercept, r, p, std_err = stats.linregress(testing_lenghts, [pow(i, 1/1.58) for i in karatsuba_times])\n",
    "\n",
    "def myfunc(x):\n",
    "  return slope * x + intercept\n",
    "\n",
    "mymodel = list(map(myfunc, testing_lenghts))\n",
    "\n",
    "plt.scatter(testing_lenghts, [pow(i, 1/1.58) for i in karatsuba_times])\n",
    "plt.plot(testing_lenghts, mymodel)"
   ]
  },
  {
   "cell_type": "code",
   "execution_count": null,
   "metadata": {},
   "outputs": [],
   "source": [
    "same_l_dif_num = [1000, 1111, 6873, 9999]\n",
    "times = [[]]*4\n",
    "for i, n in enumerate(same_l_dif_num):\n",
    "    for _ in range(150):\n",
    "        t1 = default_timer()\n",
    "        karatsuba(n,n)\n",
    "        times[i].append(default_timer()-t1)\n",
    "sns.histplot(times[0], color=\"blue\", alpha=0.3)\n",
    "sns.histplot(times[1], color=\"red\", alpha=0.3)\n",
    "sns.histplot(times[2], color=\"orange\", alpha=0.2)\n",
    "sns.histplot(times[3], color=\"green\", alpha=0.2)"
   ]
  },
  {
   "cell_type": "code",
   "execution_count": null,
   "metadata": {},
   "outputs": [],
   "source": [
    "same_l_dif_num = [1000, 1111, 6873, 9999]\n",
    "times = [[]]*4\n",
    "for i, n in enumerate(same_l_dif_num):\n",
    "    for _ in range(250):\n",
    "        t1 = default_timer()\n",
    "        simple_multipl(n,n)\n",
    "        times[i].append(default_timer()-t1)\n",
    "sns.histplot(times[0], color=\"blue\", alpha=0.3)\n",
    "sns.histplot(times[1], color=\"red\", alpha=0.3)\n",
    "sns.histplot(times[2], color=\"orange\", alpha=0.2)\n",
    "sns.histplot(times[3], color=\"green\", alpha=0.2)\n",
    "  \n"
   ]
  }
 ],
 "metadata": {
  "kernelspec": {
   "display_name": "Python 3.8.0 32-bit",
   "language": "python",
   "name": "python3"
  },
  "language_info": {
   "codemirror_mode": {
    "name": "ipython",
    "version": 3
   },
   "file_extension": ".py",
   "mimetype": "text/x-python",
   "name": "python",
   "nbconvert_exporter": "python",
   "pygments_lexer": "ipython3",
   "version": "3.8.0"
  },
  "orig_nbformat": 4,
  "vscode": {
   "interpreter": {
    "hash": "00353a74eb640e76c3ea96069a586a96e04a8f85b363aa6df5eeebeb90fb1f4e"
   }
  }
 },
 "nbformat": 4,
 "nbformat_minor": 2
}
